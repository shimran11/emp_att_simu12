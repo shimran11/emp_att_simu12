{
 "cells": [
  {
   "cell_type": "markdown",
   "metadata": {
    "id": "uClORbqu8Kd_"
   },
   "source": [
    "# Employee Attrition Rate using Regression\n",
    "\n",
    "## Introduction\n",
    "\n",
    "Artificial intelligence is commonly used in various trade circles to automate processes, gather insights on business, and speed up processes. You will use Python to study the usage of artificial intelligence in real-life scenarios - how AI actually impacts industries. \n",
    "\n",
    "Employees are the most important entities in an organization. Successful employees offer a lot to organisations. In this notebook, we will use AI to predict the attrition rate of employees or how often a company can retain employees.\n",
    "\n",
    "## Context\n",
    "\n",
    "We will be working with the dataset containing employee attrition rates, which is collected by Hackerearth and uploaded at [Kaggle](https://www.kaggle.com/blurredmachine/hackerearth-employee-attrition). We will use regression to predict attrition rates and see how successful is our model.\n",
    "\n",
    "\n",
    "\n",
    "## Use Python to open csv files\n",
    "\n",
    "We will use the [scikit-learn](https://scikit-learn.org/stable/) and [pandas](https://pandas.pydata.org/) to work with our dataset. Scikit-learn is a very useful machine learning library that provides efficient tools for predictive data analysis.  Pandas is a popular Python library for data science. It offers powerful and flexible data structures to make data manipulation and analysis easier.\n",
    "\n",
    "\n",
    "## Import Libraries\n"
   ]
  },
  {
   "cell_type": "code",
   "execution_count": 1,
   "metadata": {
    "id": "R4ARBxgN-zWr"
   },
   "outputs": [],
   "source": [
    "import pandas as pd\n",
    "import numpy as np\n",
    "import seaborn as sns\n",
    "import matplotlib.pyplot as plt\n",
    "%matplotlib inline\n",
    "from sklearn.model_selection import train_test_split\n",
    "from sklearn.tree import DecisionTreeClassifier\n",
    "from sklearn import metrics\n",
    "\n",
    "from sklearn.linear_model import LinearRegression \n",
    "from sklearn.linear_model import Ridge\n",
    "from sklearn.linear_model import Lasso\n",
    "\n",
    "from sklearn.linear_model import Lasso\n",
    "from sklearn.linear_model import ElasticNet\n",
    "from sklearn.neighbors import KNeighborsRegressor\n",
    "from sklearn.tree import DecisionTreeRegressor\n",
    "\n",
    "from sklearn.metrics import mean_squared_error"
   ]
  },
  {
   "cell_type": "markdown",
   "metadata": {
    "id": "6xBB32V___tL"
   },
   "source": [
    "### Importing the Dataset\n",
    "\n",
    "The dataset contains employee attrition rates. Let us visualize the dataset.\n",
    "\n"
   ]
  },
  {
   "cell_type": "code",
   "execution_count": 2,
   "metadata": {
    "id": "de2cFC5p-6kq"
   },
   "outputs": [],
   "source": [
    "train = pd.read_csv(\"[Dataset]_Module11_Train_(Employee).csv\") \n",
    "test = pd.read_csv(\"[Dataset]_Module11_Test_(Employee).csv\")"
   ]
  },
  {
   "cell_type": "markdown",
   "metadata": {
    "id": "rVP7JXphAuqC"
   },
   "source": [
    "## Task 1: Print the columns of the training set"
   ]
  },
  {
   "cell_type": "code",
   "execution_count": 3,
   "metadata": {
    "colab": {
     "base_uri": "https://localhost:8080/",
     "height": 138
    },
    "id": "Rb_JYsztAZ51",
    "outputId": "44e74eab-2051-429c-b25e-98b4e6fe370e"
   },
   "outputs": [],
   "source": [
    "#yourcodehere\n",
    "print(train.columns)"
   ]
  },
  {
   "cell_type": "code",
   "execution_count": 4,
   "metadata": {
    "colab": {
     "base_uri": "https://localhost:8080/",
     "height": 274
    },
    "id": "B3SY7OdMA-Dg",
    "outputId": "4e97fef7-b7a6-45d7-982e-a048585bb375"
   },
   "outputs": [],
   "source": [
    "print(train.shape)\n",
    "train.head()"
   ]
  },
  {
   "cell_type": "markdown",
   "metadata": {
    "id": "puSoD2YOBSto"
   },
   "source": [
    "### Data Description\n",
    "\n",
    "Let us see how the data is distributed. We can visualize the mean, max, and min value of each column alongside other characteristics."
   ]
  },
  {
   "cell_type": "code",
   "execution_count": 5,
   "metadata": {
    "colab": {
     "base_uri": "https://localhost:8080/",
     "height": 314
    },
    "id": "7pvRvVWrBB6d",
    "outputId": "913e3dbe-1d1d-4089-e9f7-7d28492cc4ec"
   },
   "outputs": [],
   "source": [
    "train.describe()\n"
   ]
  },
  {
   "cell_type": "markdown",
   "metadata": {
    "id": "0pNp0HwvC4cV"
   },
   "source": [
    "## Task2: Get information about the training data set using the describe function"
   ]
  },
  {
   "cell_type": "code",
   "execution_count": 6,
   "metadata": {
    "colab": {
     "base_uri": "https://localhost:8080/",
     "height": 314
    },
    "id": "9ySxpstZBibr",
    "outputId": "b3c6575e-c78b-43af-dd51-5ece6d163d21"
   },
   "outputs": [],
   "source": [
    "#yourcodehere\n",
    "train.describe()"
   ]
  },
  {
   "cell_type": "code",
   "execution_count": 7,
   "metadata": {},
   "outputs": [],
   "source": [
    "train.isna().sum()"
   ]
  },
  {
   "cell_type": "code",
   "execution_count": 8,
   "metadata": {
    "colab": {
     "base_uri": "https://localhost:8080/",
     "height": 450
    },
    "id": "VNSgkpGhBylQ",
    "outputId": "6defceaa-82af-4dde-bbf2-b1aae1e4cc47"
   },
   "outputs": [],
   "source": [
    "# Let's see if training set has any missing values\n",
    "train.isna().any()"
   ]
  },
  {
   "cell_type": "markdown",
   "metadata": {
    "id": "onO3KLorD8R8"
   },
   "source": [
    "### Data Visualization\n",
    "\n",
    "Now, let us see the correlation matrix to see how related are the features."
   ]
  },
  {
   "cell_type": "code",
   "execution_count": 9,
   "metadata": {
    "colab": {
     "base_uri": "https://localhost:8080/",
     "height": 714
    },
    "id": "7AD5fiGICINO",
    "outputId": "2d70ce07-915c-4fe8-a060-5f537cbb6404"
   },
   "outputs": [],
   "source": [
    "plt.figure(figsize=(18,10))\n",
    "cor = train.corr()\n",
    "sns.heatmap(cor, annot=True, cmap=plt.cm.Accent)\n",
    "plt.show()\n",
    "plt.savefig(\"main_correlation.png\")"
   ]
  },
  {
   "cell_type": "markdown",
   "metadata": {
    "id": "UMn9li18E7CU"
   },
   "source": [
    "### Preparing the model\n",
    "\n",
    "Now we will finalize the data for the training and prepare the model."
   ]
  },
  {
   "cell_type": "code",
   "execution_count": null,
   "metadata": {
    "id": "UlskIaq1EIct"
   },
   "outputs": [],
   "source": [
    "#Attrition_rate is the label or output to be predicted\n",
    "#features will be used to predict Attrition_rate\n",
    "label = [\"Attrition_rate\"]\n",
    "features = ['VAR7','VAR6','VAR5','VAR1','VAR3','growth_rate','Time_of_service','Time_since_promotion','Travel_Rate','Post_Level','Education_Level']\n"
   ]
  },
  {
   "cell_type": "code",
   "execution_count": null,
   "metadata": {
    "colab": {
     "base_uri": "https://localhost:8080/",
     "height": 34
    },
    "id": "-8gY91pCFQZR",
    "outputId": "07d3981b-3084-4bb1-a6c1-a713fc657d8c"
   },
   "outputs": [],
   "source": [
    "featured_data = train.loc[:,features+label]\n",
    "#We will drop the columns here which have missing values using dropna function\n",
    "featured_data = featured_data.dropna(axis=0)\n",
    "featured_data.shape"
   ]
  },
  {
   "cell_type": "code",
   "execution_count": null,
   "metadata": {
    "id": "8KBBjKtlFTIf"
   },
   "outputs": [],
   "source": [
    "X = featured_data.loc[:,features]\n",
    "y = featured_data.loc[:,label]"
   ]
  },
  {
   "cell_type": "code",
   "execution_count": null,
   "metadata": {
    "id": "WqzHfmYFFl6o"
   },
   "outputs": [],
   "source": [
    "#Here the training and test data are split 55% to 45% as test size is 0.55\n",
    "# Here the test size is 55% because model is giving good accuracy on bigger test size also. It completely depends on the model, \n",
    "# if the developer feels positive about the results then they go give with bigger test size.Experimentation is the key to understand the model.\n",
    "X_train,X_test,y_train,y_test = train_test_split(X,y,random_state=1,test_size=0.55)"
   ]
  },
  {
   "cell_type": "code",
   "execution_count": null,
   "metadata": {
    "id": "rHA8vcJgFcMA"
   },
   "outputs": [],
   "source": [
    "#df = Ridge(alpha=0.000001)\n",
    "df = LinearRegression()\n",
    "df.fit(X_train,y_train)\n",
    "y_pred = df.predict(X_test)\n",
    "c=[]\n",
    "for i in range(len(y_pred)):\n",
    "    c.append((y_pred[i][0].round(5)))\n",
    "pf=c[:3000]\n"
   ]
  },
  {
   "cell_type": "code",
   "execution_count": null,
   "metadata": {
    "colab": {
     "base_uri": "https://localhost:8080/",
     "height": 34
    },
    "id": "P-OSoWuGFh_2",
    "outputId": "978d7bb9-bfe5-43a9-c310-8da5a111662d"
   },
   "outputs": [],
   "source": [
    "#Let's print the accuracy now\n",
    "score = 100* max(0, 1-mean_squared_error(y_test, y_pred))\n",
    "print(score)"
   ]
  },
  {
   "cell_type": "code",
   "execution_count": null,
   "metadata": {
    "colab": {
     "base_uri": "https://localhost:8080/",
     "height": 202
    },
    "id": "jhB__hobF0QG",
    "outputId": "2ff5c861-2142-4378-bdd9-7eb42bcf0d0c"
   },
   "outputs": [],
   "source": [
    "#Predicting\n",
    "import pandas as pd\n",
    "dff = pd.DataFrame({'Employee_ID':test['Employee_ID'],'Attrition_rate':pf})\n",
    "dff.head()"
   ]
  },
  {
   "cell_type": "markdown",
   "metadata": {
    "id": "kB06o_GGF7zn"
   },
   "source": [
    "## Task 3: Print the first 20 columns of predictions\n"
   ]
  },
  {
   "cell_type": "code",
   "execution_count": null,
   "metadata": {
    "colab": {
     "base_uri": "https://localhost:8080/",
     "height": 662
    },
    "id": "fIQY5JWcF5kV",
    "outputId": "5484a0dc-adda-4a16-8f60-11b8a0272bf0"
   },
   "outputs": [],
   "source": [
    "#yourcodehere"
   ]
  },
  {
   "cell_type": "markdown",
   "metadata": {
    "id": "ZGdw47ChGG8I"
   },
   "source": [
    "### Conclusion\n",
    "\n",
    "In this notebook, we have seen how AI can be used by companies to predict which employess would be loyal to them. We have bulit a linear regression model to predict the attrition rate."
   ]
  },
  {
   "cell_type": "code",
   "execution_count": null,
   "metadata": {
    "id": "49Nou6QPGFjj"
   },
   "outputs": [],
   "source": []
  }
 ],
 "metadata": {
  "colab": {
   "collapsed_sections": [],
   "name": "[Notebook - Student] Module 11 (Employee Attrition Prediction).ipynb",
   "provenance": [],
   "toc_visible": true
  },
  "kernelspec": {
   "display_name": "Python 3 (ipykernel)",
   "language": "python",
   "name": "python3"
  },
  "language_info": {
   "codemirror_mode": {
    "name": "ipython",
    "version": 3
   },
   "file_extension": ".py",
   "mimetype": "text/x-python",
   "name": "python",
   "nbconvert_exporter": "python",
   "pygments_lexer": "ipython3",
   "version": "3.11.3"
  },
  "toc": {
   "base_numbering": 1,
   "nav_menu": {},
   "number_sections": true,
   "sideBar": true,
   "skip_h1_title": false,
   "title_cell": "Table of Contents",
   "title_sidebar": "Contents",
   "toc_cell": false,
   "toc_position": {},
   "toc_section_display": true,
   "toc_window_display": false
  }
 },
 "nbformat": 4,
 "nbformat_minor": 1
}
